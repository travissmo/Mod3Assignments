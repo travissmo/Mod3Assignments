{
 "cells": [
  {
   "cell_type": "code",
   "execution_count": 1,
   "id": "dc40863c-69f7-4148-9821-22f1e9b90a3d",
   "metadata": {},
   "outputs": [
    {
     "name": "stdout",
     "output_type": "stream",
     "text": [
      "['mozarella', 'cinderella', 'salmonella']\n"
     ]
    }
   ],
   "source": [
    "#7.4\n",
    "things = [\"mozarella\",\"cinderella\",\"salmonella\"]\n",
    "print(things)\n"
   ]
  },
  {
   "cell_type": "code",
   "execution_count": 9,
   "id": "49f87d13-730f-4e89-be67-227d11239846",
   "metadata": {},
   "outputs": [
    {
     "name": "stdout",
     "output_type": "stream",
     "text": [
      "['mozarella', 'Cinderella', 'salmonella']\n"
     ]
    }
   ],
   "source": [
    "#7.5\n",
    "things = [\"mozarella\",\"cinderella\",\"salmonella\"]\n",
    "things[1]= \"Cinderella\"\n",
    "print(things)\n",
    "\n"
   ]
  },
  {
   "cell_type": "code",
   "execution_count": 25,
   "id": "b5b8b492-2719-41df-a6bf-cd16b08c67ed",
   "metadata": {},
   "outputs": [
    {
     "name": "stdout",
     "output_type": "stream",
     "text": [
      "['MOZERELLA', 'Cinderella', 'salmonella']\n"
     ]
    }
   ],
   "source": [
    "#7.6\n",
    "things = [\"mozerella\",\"Cinderella\",\"salmonella\"]\n",
    "things[0] = \"MOZERELLA\"\n",
    "print(things)"
   ]
  },
  {
   "cell_type": "code",
   "execution_count": 29,
   "id": "a8ba50a4-1c4e-4b32-915e-bc1245ca15e7",
   "metadata": {},
   "outputs": [
    {
     "name": "stdout",
     "output_type": "stream",
     "text": [
      "['MOZERELLA', 'Cinderella']\n"
     ]
    }
   ],
   "source": [
    "#7.7\n",
    "things = [\"mozerella\",\"cinderella\",\"salmonella\"]\n",
    "things[1]= \"Cinderella\"\n",
    "things[0] = \"MOZERELLA\"\n",
    "things.pop(2)\n",
    "print(things)"
   ]
  },
  {
   "cell_type": "code",
   "execution_count": 39,
   "id": "cacbf43c-93ce-41b2-9c27-e250ea82e678",
   "metadata": {},
   "outputs": [],
   "source": [
    "#9.1\n",
    "def good():\n",
    "    return [\"Harry\",\"Ron\",\"Hermione\"]"
   ]
  },
  {
   "cell_type": "code",
   "execution_count": 65,
   "id": "bb36e3c4-c29a-4df6-ac8a-ad60faa12171",
   "metadata": {},
   "outputs": [
    {
     "name": "stdout",
     "output_type": "stream",
     "text": [
      "5\n"
     ]
    }
   ],
   "source": [
    "#9.2\n",
    "def get_odds():\n",
    "    for number in range(10):\n",
    "        if number % 2 != 0:\n",
    "            yield(number) #Got stuck on this part and got some help. Used yield instead of return and that fixed this issue\n",
    "            \n",
    "odd_num = get_odds()\n",
    "\n",
    "count = 0\n",
    "for odd in odd_num:\n",
    "    count += 1\n",
    "    if count == 3:\n",
    "        print(odd)\n",
    "        break\n",
    "    \n",
    "\n",
    "    "
   ]
  },
  {
   "cell_type": "code",
   "execution_count": null,
   "id": "c4828fa8-8b27-4e42-9e42-aeaf6e69baa5",
   "metadata": {},
   "outputs": [],
   "source": []
  },
  {
   "cell_type": "code",
   "execution_count": null,
   "id": "da10e41f-98f7-4f63-8dbb-589331db781b",
   "metadata": {},
   "outputs": [],
   "source": []
  }
 ],
 "metadata": {
  "kernelspec": {
   "display_name": "Python 3 (ipykernel)",
   "language": "python",
   "name": "python3"
  },
  "language_info": {
   "codemirror_mode": {
    "name": "ipython",
    "version": 3
   },
   "file_extension": ".py",
   "mimetype": "text/x-python",
   "name": "python",
   "nbconvert_exporter": "python",
   "pygments_lexer": "ipython3",
   "version": "3.12.4"
  }
 },
 "nbformat": 4,
 "nbformat_minor": 5
}
